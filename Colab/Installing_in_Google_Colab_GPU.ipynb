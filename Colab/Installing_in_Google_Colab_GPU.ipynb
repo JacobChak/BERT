{
  "nbformat": 4,
  "nbformat_minor": 0,
  "metadata": {
    "colab": {
      "provenance": [],
      "machine_shape": "hm",
      "include_colab_link": true
    },
    "kernelspec": {
      "name": "python3",
      "display_name": "Python 3"
    },
    "language_info": {
      "name": "python"
    },
    "accelerator": "GPU",
    "gpuClass": "standard"
  },
  "cells": [
    {
      "cell_type": "markdown",
      "metadata": {
        "id": "view-in-github",
        "colab_type": "text"
      },
      "source": [
        "<a href=\"https://colab.research.google.com/github/JacobChak/BERT/blob/main/Colab/Installing_in_Google_Colab_GPU.ipynb\" target=\"_parent\"><img src=\"https://colab.research.google.com/assets/colab-badge.svg\" alt=\"Open In Colab\"/></a>"
      ]
    },
    {
      "cell_type": "code",
      "source": [
        "from google.colab import drive\n",
        "drive.mount('/content/drive')"
      ],
      "metadata": {
        "colab": {
          "base_uri": "https://localhost:8080/"
        },
        "id": "IjLXfP3lPhFO",
        "outputId": "184c2c14-2150-4ea2-cafe-f0da6e2d58de"
      },
      "execution_count": null,
      "outputs": [
        {
          "output_type": "stream",
          "name": "stdout",
          "text": [
            "Mounted at /content/drive\n"
          ]
        }
      ]
    },
    {
      "cell_type": "markdown",
      "source": [
        "This notebook guides you through the process of installing Conda in your Colab.\n",
        "\n",
        "Why do you need conda on Colab? \n",
        "Among other benefits, certain packages require Conda for installation. For example, trackpy installation: http://soft-matter.github.io/trackpy/dev/installation.html\n",
        "\n",
        "Trackpy strongly recommends using Conda and not pip. Therefore, we need to set up conda environment for our colab notebook. "
      ],
      "metadata": {
        "id": "9O9WZqwgWRGX"
      }
    },
    {
      "cell_type": "markdown",
      "source": [
        "Let us start by understanding the current python version in our colab and installing the corresponding conda environment. "
      ],
      "metadata": {
        "id": "qPLGsncoiLXT"
      }
    },
    {
      "cell_type": "code",
      "execution_count": null,
      "metadata": {
        "colab": {
          "base_uri": "https://localhost:8080/"
        },
        "id": "du8s735AiLXi",
        "outputId": "b16e3ebf-dfce-448a-8203-8804dba96c3a"
      },
      "outputs": [
        {
          "output_type": "stream",
          "name": "stdout",
          "text": [
            "/usr/local/bin/python\n",
            "Python 3.9.16\n"
          ]
        }
      ],
      "source": [
        "#Path and version numbers for python\n",
        "!which python\n",
        "!python --version"
      ]
    },
    {
      "cell_type": "markdown",
      "source": [
        "It gives python 3.7.13.\n",
        "https://docs.conda.io/en/latest/miniconda.html#system-requirements\n",
        "The documentation recommends miniconda 4.12.0 for python 3.7 Linux 64 bit\n",
        "\n",
        "Let us reset the default python path for colab. Just to make sure we do not run into any issues later when miniconda installs its own version of python. "
      ],
      "metadata": {
        "id": "If6dmNB0iLXj"
      }
    },
    {
      "cell_type": "code",
      "source": [
        "%env PYTHONPATH="
      ],
      "metadata": {
        "id": "FPpwZf-AiLXk"
      },
      "execution_count": null,
      "outputs": []
    },
    {
      "cell_type": "code",
      "source": [
        "%%bash\n",
        "MINICONDA_INSTALLER_SCRIPT=Miniconda3-py37_4.12.0-Linux-x86_64.sh\n",
        "MINICONDA_PREFIX=/usr/local\n",
        "wget https://repo.continuum.io/miniconda/$MINICONDA_INSTALLER_SCRIPT\n",
        "chmod +x $MINICONDA_INSTALLER_SCRIPT\n",
        "./$MINICONDA_INSTALLER_SCRIPT -b -f -p $MINICONDA_PREFIX"
      ],
      "metadata": {
        "id": "wWwRqGxbiLXk"
      },
      "execution_count": null,
      "outputs": []
    },
    {
      "cell_type": "markdown",
      "source": [
        "Verify to see if the conda executable is available"
      ],
      "metadata": {
        "id": "QgDSOUpSiLXk"
      }
    },
    {
      "cell_type": "code",
      "source": [
        "!which conda # should return /usr/local/bin/conda"
      ],
      "metadata": {
        "colab": {
          "base_uri": "https://localhost:8080/"
        },
        "id": "w5jDaZY_iLXl",
        "outputId": "a34bd8fc-4814-4ae8-f91c-a09f4003480d"
      },
      "execution_count": null,
      "outputs": [
        {
          "output_type": "stream",
          "name": "stdout",
          "text": [
            "/usr/local/bin/conda\n"
          ]
        }
      ]
    },
    {
      "cell_type": "code",
      "source": [
        "!which cuda"
      ],
      "metadata": {
        "id": "odWgPQ6eRNf9"
      },
      "execution_count": null,
      "outputs": []
    },
    {
      "cell_type": "markdown",
      "source": [
        "Confirm the conda version"
      ],
      "metadata": {
        "id": "TOEjgt_iiLXl"
      }
    },
    {
      "cell_type": "code",
      "source": [
        "!conda --version # should return 4.12.0"
      ],
      "metadata": {
        "colab": {
          "base_uri": "https://localhost:8080/"
        },
        "id": "mT07XQJ4iLXl",
        "outputId": "5a606f82-086e-4e90-cf96-dde81f2044e9"
      },
      "execution_count": null,
      "outputs": [
        {
          "output_type": "stream",
          "name": "stdout",
          "text": [
            "conda 4.12.0\n"
          ]
        }
      ]
    },
    {
      "cell_type": "code",
      "source": [
        "!python --version "
      ],
      "metadata": {
        "colab": {
          "base_uri": "https://localhost:8080/"
        },
        "id": "ss-2jRS1iLXl",
        "outputId": "310c4c2e-8414-4442-f92f-3d3cfc67d07a"
      },
      "execution_count": null,
      "outputs": [
        {
          "output_type": "stream",
          "name": "stdout",
          "text": [
            "Python 3.7.13\n"
          ]
        }
      ]
    },
    {
      "cell_type": "markdown",
      "source": [
        "Update conda"
      ],
      "metadata": {
        "id": "eE-XsQKYiLXm"
      }
    },
    {
      "cell_type": "code",
      "source": [
        "%%bash\n",
        "conda install --channel defaults conda python=3.7 --yes\n",
        "conda update --channel defaults --all --yes"
      ],
      "metadata": {
        "id": "sQH9P-M-iLXm"
      },
      "execution_count": null,
      "outputs": []
    },
    {
      "cell_type": "code",
      "source": [
        "!conda --version # updated version of conda"
      ],
      "metadata": {
        "colab": {
          "base_uri": "https://localhost:8080/"
        },
        "id": "1E_CAd4-iLXm",
        "outputId": "a3e43e41-7285-468e-b96f-9aed6ce6e951"
      },
      "execution_count": null,
      "outputs": [
        {
          "output_type": "stream",
          "name": "stdout",
          "text": [
            "conda 23.1.0\n"
          ]
        }
      ]
    },
    {
      "cell_type": "code",
      "source": [
        "!python --version"
      ],
      "metadata": {
        "colab": {
          "base_uri": "https://localhost:8080/"
        },
        "id": "VmckoiwqiLXm",
        "outputId": "992b47f7-deb4-4416-a930-70f143e53e96"
      },
      "execution_count": null,
      "outputs": [
        {
          "output_type": "stream",
          "name": "stdout",
          "text": [
            "Python 3.7.16\n"
          ]
        }
      ]
    },
    {
      "cell_type": "markdown",
      "source": [
        "Provide directory where site packages are installed within miniconda\n",
        "\n",
        "First, check the current paths. "
      ],
      "metadata": {
        "id": "NP0iSbBViLXn"
      }
    },
    {
      "cell_type": "code",
      "source": [
        "import sys\n",
        "sys.path"
      ],
      "metadata": {
        "id": "lI78YaUdiLXn"
      },
      "execution_count": null,
      "outputs": []
    },
    {
      "cell_type": "markdown",
      "source": [
        "Now add the path for our site-packages"
      ],
      "metadata": {
        "id": "Hotu5bFdiLXo"
      }
    },
    {
      "cell_type": "code",
      "source": [
        "import sys\n",
        "_ = (sys.path\n",
        "        .append(\"/usr/local/lib/python3.7/site-packages\"))"
      ],
      "metadata": {
        "id": "o00OJQRFiLXo"
      },
      "execution_count": null,
      "outputs": []
    },
    {
      "cell_type": "markdown",
      "source": [
        "Now, we are all set to install trackpy  or pims or any other library using conda.\n",
        "\n",
        "Please note that you will be prompted to answer Yes/No during installation. Let us just install pims to prove the point. "
      ],
      "metadata": {
        "id": "DEWe5ZW-iLXp"
      }
    },
    {
      "cell_type": "code",
      "source": [
        "!conda install -c conda-forge pims"
      ],
      "metadata": {
        "id": "Hech3AARiLXp"
      },
      "execution_count": null,
      "outputs": []
    },
    {
      "cell_type": "code",
      "source": [
        "import pims"
      ],
      "metadata": {
        "id": "moefo3W3sODe"
      },
      "execution_count": null,
      "outputs": []
    },
    {
      "cell_type": "code",
      "source": [
        "import os\n",
        "path=\"/content/drive/MyDrive/People/people_relation_extract\"\n",
        "os.chdir(path)\n",
        "os.listdir(path)"
      ],
      "metadata": {
        "id": "W3JTZeo7rijr"
      },
      "execution_count": null,
      "outputs": []
    },
    {
      "cell_type": "code",
      "source": [
        "!python relation_bar_chart.py"
      ],
      "metadata": {
        "id": "q5osGz9bri1_"
      },
      "execution_count": null,
      "outputs": []
    },
    {
      "cell_type": "code",
      "source": [
        "!pip install xlrd==1.2.0."
      ],
      "metadata": {
        "id": "P_MRlPZ_Wd6d"
      },
      "execution_count": null,
      "outputs": []
    },
    {
      "cell_type": "code",
      "source": [
        "%cd /content/drive/MyDrive/People_2/people_relation_extract/data"
      ],
      "metadata": {
        "colab": {
          "base_uri": "https://localhost:8080/"
        },
        "id": "noFZja0aHanu",
        "outputId": "ad40b025-3e4e-4c90-97c3-688b12b2b44d"
      },
      "execution_count": null,
      "outputs": [
        {
          "output_type": "stream",
          "name": "stdout",
          "text": [
            "/content/drive/MyDrive/People_2/people_relation_extract/data\n"
          ]
        }
      ]
    },
    {
      "cell_type": "code",
      "source": [
        "!python data_into_train_test.py"
      ],
      "metadata": {
        "colab": {
          "base_uri": "https://localhost:8080/"
        },
        "id": "wKqBM8pCWQ4p",
        "outputId": "e50c31b7-bd62-44d9-d569-b490bcf206d7"
      },
      "execution_count": null,
      "outputs": [
        {
          "output_type": "stream",
          "name": "stdout",
          "text": [
            "总数: 3898\n",
            "A&A        2310\n",
            "P&A         965\n",
            "Unknown     479\n",
            "P&P         144\n",
            "Name: 关系, dtype: int64\n"
          ]
        }
      ]
    },
    {
      "cell_type": "code",
      "source": [
        "!pip install -r requirements.txt"
      ],
      "metadata": {
        "id": "wPxbWMIRHas_"
      },
      "execution_count": null,
      "outputs": []
    },
    {
      "cell_type": "code",
      "source": [
        "%cd .."
      ],
      "metadata": {
        "colab": {
          "base_uri": "https://localhost:8080/"
        },
        "id": "GgTv0fHdHawL",
        "outputId": "f8ede31d-d516-437f-d1a4-c3611188b9eb"
      },
      "execution_count": null,
      "outputs": [
        {
          "output_type": "stream",
          "name": "stdout",
          "text": [
            "/content/drive/MyDrive/People_2/people_relation_extract\n"
          ]
        }
      ]
    },
    {
      "cell_type": "code",
      "source": [
        "!pip install numpy"
      ],
      "metadata": {
        "colab": {
          "base_uri": "https://localhost:8080/"
        },
        "id": "FCLDmuWvXS57",
        "outputId": "93b267a2-d80e-473d-90f2-0c3aaa8618d8"
      },
      "execution_count": null,
      "outputs": [
        {
          "output_type": "stream",
          "name": "stdout",
          "text": [
            "Looking in indexes: https://pypi.org/simple, https://us-python.pkg.dev/colab-wheels/public/simple/\n",
            "Requirement already satisfied: numpy in /usr/local/lib/python3.7/site-packages (1.21.6)\n",
            "\u001b[33mWARNING: Running pip as the 'root' user can result in broken permissions and conflicting behaviour with the system package manager. It is recommended to use a virtual environment instead: https://pip.pypa.io/warnings/venv\u001b[0m\u001b[33m\n",
            "\u001b[0m"
          ]
        }
      ]
    },
    {
      "cell_type": "code",
      "source": [
        "!python load_data.py"
      ],
      "metadata": {
        "id": "yG4Gkl5sHa2u"
      },
      "execution_count": null,
      "outputs": []
    },
    {
      "cell_type": "code",
      "source": [
        "!python model_train.py"
      ],
      "metadata": {
        "colab": {
          "base_uri": "https://localhost:8080/"
        },
        "id": "CWAwPTpiHa87",
        "outputId": "c1895029-38cd-4004-ac3f-1819e61fb2ae"
      },
      "execution_count": null,
      "outputs": [
        {
          "output_type": "stream",
          "name": "stdout",
          "text": [
            "Using TensorFlow backend.\n",
            "/usr/local/lib/python3.7/site-packages/tensorflow/python/framework/dtypes.py:526: FutureWarning: Passing (type, 1) or '1type' as a synonym of type is deprecated; in a future version of numpy, it will be understood as (type, (1,)) / '(1,)type'.\n",
            "  _np_qint8 = np.dtype([(\"qint8\", np.int8, 1)])\n",
            "/usr/local/lib/python3.7/site-packages/tensorflow/python/framework/dtypes.py:527: FutureWarning: Passing (type, 1) or '1type' as a synonym of type is deprecated; in a future version of numpy, it will be understood as (type, (1,)) / '(1,)type'.\n",
            "  _np_quint8 = np.dtype([(\"quint8\", np.uint8, 1)])\n",
            "/usr/local/lib/python3.7/site-packages/tensorflow/python/framework/dtypes.py:528: FutureWarning: Passing (type, 1) or '1type' as a synonym of type is deprecated; in a future version of numpy, it will be understood as (type, (1,)) / '(1,)type'.\n",
            "  _np_qint16 = np.dtype([(\"qint16\", np.int16, 1)])\n",
            "/usr/local/lib/python3.7/site-packages/tensorflow/python/framework/dtypes.py:529: FutureWarning: Passing (type, 1) or '1type' as a synonym of type is deprecated; in a future version of numpy, it will be understood as (type, (1,)) / '(1,)type'.\n",
            "  _np_quint16 = np.dtype([(\"quint16\", np.uint16, 1)])\n",
            "/usr/local/lib/python3.7/site-packages/tensorflow/python/framework/dtypes.py:530: FutureWarning: Passing (type, 1) or '1type' as a synonym of type is deprecated; in a future version of numpy, it will be understood as (type, (1,)) / '(1,)type'.\n",
            "  _np_qint32 = np.dtype([(\"qint32\", np.int32, 1)])\n",
            "/usr/local/lib/python3.7/site-packages/tensorflow/python/framework/dtypes.py:535: FutureWarning: Passing (type, 1) or '1type' as a synonym of type is deprecated; in a future version of numpy, it will be understood as (type, (1,)) / '(1,)type'.\n",
            "  np_resource = np.dtype([(\"resource\", np.ubyte, 1)])\n",
            "I:\u001b[33mBERT_VEC\u001b[0m:[graph:opt: 48]:model config: /content/drive/MyDrive/People_2/people_relation_extract/chinese_L-12_H-768_A-12/bert_config.json\n",
            "I:\u001b[33mBERT_VEC\u001b[0m:[graph:opt: 54]:build graph...\n",
            "\n",
            "WARNING: The TensorFlow contrib module will not be included in TensorFlow 2.0.\n",
            "For more information, please see:\n",
            "  * https://github.com/tensorflow/community/blob/master/rfcs/20180907-contrib-sunset.md\n",
            "  * https://github.com/tensorflow/addons\n",
            "If you depend on functionality not listed there, please file an issue.\n",
            "\n",
            "I:\u001b[33mBERT_VEC\u001b[0m:[graph:opt:128]:load parameters from checkpoint...\n",
            "I:\u001b[33mBERT_VEC\u001b[0m:[graph:opt:130]:freeze...\n",
            "I:\u001b[33mBERT_VEC\u001b[0m:[graph:opt:133]:optimize...\n",
            "I:\u001b[33mBERT_VEC\u001b[0m:[graph:opt:144]:write graph to a tmp file: ./tmp_graph11\n",
            "begin encoding\n",
            "end encoding\n",
            "Train on 3118 samples, validate on 780 samples\n",
            "Epoch 1/30\n",
            "3118/3118 [==============================] - 84s 27ms/step - loss: 0.7389 - accuracy: 0.7248 - val_loss: 0.3900 - val_accuracy: 0.8513\n",
            "\n",
            "Epoch 00001: val_accuracy improved from -inf to 0.85128, saving model to /content/drive/MyDrive/People_2/people_relation_extract/models/per-rel-01-0.8513.h5\n",
            "Epoch 2/30\n",
            "3118/3118 [==============================] - 82s 26ms/step - loss: 0.3450 - accuracy: 0.8781 - val_loss: 0.2635 - val_accuracy: 0.9103\n",
            "\n",
            "Epoch 00002: val_accuracy improved from 0.85128 to 0.91026, saving model to /content/drive/MyDrive/People_2/people_relation_extract/models/per-rel-02-0.9103.h5\n",
            "Epoch 3/30\n",
            "3118/3118 [==============================] - 81s 26ms/step - loss: 0.2083 - accuracy: 0.9285 - val_loss: 0.2097 - val_accuracy: 0.9192\n",
            "\n",
            "Epoch 00003: val_accuracy improved from 0.91026 to 0.91923, saving model to /content/drive/MyDrive/People_2/people_relation_extract/models/per-rel-03-0.9192.h5\n",
            "Epoch 4/30\n",
            "3118/3118 [==============================] - 82s 26ms/step - loss: 0.1522 - accuracy: 0.9455 - val_loss: 0.2150 - val_accuracy: 0.9308\n",
            "\n",
            "Epoch 00004: val_accuracy improved from 0.91923 to 0.93077, saving model to /content/drive/MyDrive/People_2/people_relation_extract/models/per-rel-04-0.9308.h5\n",
            "Epoch 5/30\n",
            "3118/3118 [==============================] - 81s 26ms/step - loss: 0.0968 - accuracy: 0.9657 - val_loss: 0.1474 - val_accuracy: 0.9564\n",
            "\n",
            "Epoch 00005: val_accuracy improved from 0.93077 to 0.95641, saving model to /content/drive/MyDrive/People_2/people_relation_extract/models/per-rel-05-0.9564.h5\n",
            "Epoch 6/30\n",
            "3118/3118 [==============================] - 80s 26ms/step - loss: 0.0761 - accuracy: 0.9727 - val_loss: 0.1520 - val_accuracy: 0.9513\n",
            "\n",
            "Epoch 00006: val_accuracy did not improve from 0.95641\n",
            "Epoch 7/30\n",
            "3118/3118 [==============================] - 81s 26ms/step - loss: 0.0607 - accuracy: 0.9817 - val_loss: 0.1408 - val_accuracy: 0.9526\n",
            "\n",
            "Epoch 00007: val_accuracy did not improve from 0.95641\n",
            "Epoch 8/30\n",
            "3118/3118 [==============================] - 81s 26ms/step - loss: 0.0318 - accuracy: 0.9933 - val_loss: 0.1549 - val_accuracy: 0.9628\n",
            "\n",
            "Epoch 00008: val_accuracy improved from 0.95641 to 0.96282, saving model to /content/drive/MyDrive/People_2/people_relation_extract/models/per-rel-08-0.9628.h5\n",
            "Epoch 9/30\n",
            "3118/3118 [==============================] - 82s 26ms/step - loss: 0.0424 - accuracy: 0.9856 - val_loss: 0.1627 - val_accuracy: 0.9526\n",
            "\n",
            "Epoch 00009: val_accuracy did not improve from 0.96282\n",
            "Epoch 10/30\n",
            "3118/3118 [==============================] - 83s 27ms/step - loss: 0.0623 - accuracy: 0.9795 - val_loss: 0.1585 - val_accuracy: 0.9564\n",
            "\n",
            "Epoch 00010: val_accuracy did not improve from 0.96282\n",
            "Epoch 11/30\n",
            "3118/3118 [==============================] - 84s 27ms/step - loss: 0.0293 - accuracy: 0.9907 - val_loss: 0.1550 - val_accuracy: 0.9628\n",
            "\n",
            "Epoch 00011: val_accuracy did not improve from 0.96282\n",
            "Epoch 12/30\n",
            "3118/3118 [==============================] - 82s 26ms/step - loss: 0.0179 - accuracy: 0.9952 - val_loss: 0.1499 - val_accuracy: 0.9628\n",
            "\n",
            "Epoch 00012: val_accuracy did not improve from 0.96282\n",
            "Epoch 13/30\n",
            "3118/3118 [==============================] - 82s 26ms/step - loss: 0.0136 - accuracy: 0.9955 - val_loss: 0.1443 - val_accuracy: 0.9654\n",
            "\n",
            "Epoch 00013: val_accuracy improved from 0.96282 to 0.96538, saving model to /content/drive/MyDrive/People_2/people_relation_extract/models/per-rel-13-0.9654.h5\n",
            "Epoch 14/30\n",
            "3118/3118 [==============================] - 84s 27ms/step - loss: 0.0074 - accuracy: 0.9978 - val_loss: 0.1394 - val_accuracy: 0.9679\n",
            "\n",
            "Epoch 00014: val_accuracy improved from 0.96538 to 0.96795, saving model to /content/drive/MyDrive/People_2/people_relation_extract/models/per-rel-14-0.9679.h5\n",
            "Epoch 15/30\n",
            "3118/3118 [==============================] - 81s 26ms/step - loss: 0.0058 - accuracy: 0.9987 - val_loss: 0.1521 - val_accuracy: 0.9692\n",
            "\n",
            "Epoch 00015: val_accuracy improved from 0.96795 to 0.96923, saving model to /content/drive/MyDrive/People_2/people_relation_extract/models/per-rel-15-0.9692.h5\n",
            "Epoch 16/30\n",
            "3118/3118 [==============================] - 82s 26ms/step - loss: 0.0352 - accuracy: 0.9878 - val_loss: 0.2208 - val_accuracy: 0.9436\n",
            "\n",
            "Epoch 00016: val_accuracy did not improve from 0.96923\n",
            "Epoch 17/30\n",
            "3118/3118 [==============================] - 84s 27ms/step - loss: 0.0593 - accuracy: 0.9798 - val_loss: 0.3139 - val_accuracy: 0.9269\n",
            "\n",
            "Epoch 00017: val_accuracy did not improve from 0.96923\n",
            "Epoch 18/30\n",
            "3118/3118 [==============================] - 84s 27ms/step - loss: 0.0365 - accuracy: 0.9885 - val_loss: 0.1395 - val_accuracy: 0.9705\n",
            "\n",
            "Epoch 00018: val_accuracy improved from 0.96923 to 0.97051, saving model to /content/drive/MyDrive/People_2/people_relation_extract/models/per-rel-18-0.9705.h5\n",
            "Epoch 19/30\n",
            "3118/3118 [==============================] - 82s 26ms/step - loss: 0.0259 - accuracy: 0.9926 - val_loss: 0.1548 - val_accuracy: 0.9667\n",
            "\n",
            "Epoch 00019: val_accuracy did not improve from 0.97051\n",
            "Epoch 20/30\n",
            "3118/3118 [==============================] - 83s 26ms/step - loss: 0.0170 - accuracy: 0.9939 - val_loss: 0.1596 - val_accuracy: 0.9654\n",
            "\n",
            "Epoch 00020: val_accuracy did not improve from 0.97051\n",
            "Epoch 21/30\n",
            "3118/3118 [==============================] - 84s 27ms/step - loss: 0.0065 - accuracy: 0.9987 - val_loss: 0.1341 - val_accuracy: 0.9744\n",
            "\n",
            "Epoch 00021: val_accuracy improved from 0.97051 to 0.97436, saving model to /content/drive/MyDrive/People_2/people_relation_extract/models/per-rel-21-0.9744.h5\n",
            "Epoch 22/30\n",
            "3118/3118 [==============================] - 81s 26ms/step - loss: 0.0056 - accuracy: 0.9981 - val_loss: 0.1473 - val_accuracy: 0.9692\n",
            "\n",
            "Epoch 00022: val_accuracy did not improve from 0.97436\n",
            "Epoch 23/30\n",
            "3118/3118 [==============================] - 82s 26ms/step - loss: 0.0146 - accuracy: 0.9968 - val_loss: 0.3160 - val_accuracy: 0.9218\n",
            "\n",
            "Epoch 00023: val_accuracy did not improve from 0.97436\n",
            "Epoch 24/30\n",
            "3118/3118 [==============================] - 83s 27ms/step - loss: 0.0472 - accuracy: 0.9862 - val_loss: 0.1489 - val_accuracy: 0.9679\n",
            "\n",
            "Epoch 00024: val_accuracy did not improve from 0.97436\n",
            "Epoch 25/30\n",
            "3118/3118 [==============================] - 83s 27ms/step - loss: 0.0198 - accuracy: 0.9936 - val_loss: 0.1739 - val_accuracy: 0.9615\n",
            "\n",
            "Epoch 00025: val_accuracy did not improve from 0.97436\n",
            "Epoch 26/30\n",
            "3118/3118 [==============================] - 82s 26ms/step - loss: 0.0174 - accuracy: 0.9949 - val_loss: 0.1694 - val_accuracy: 0.9615\n",
            "\n",
            "Epoch 00026: val_accuracy did not improve from 0.97436\n",
            "780/780 [==============================] - 5s 7ms/step\n",
            "在测试集上的效果： [0.16939637901515922, 0.9615384340286255]\n",
            "              precision    recall  f1-score   support\n",
            "\n",
            "         P&P       0.79      0.88      0.84        26\n",
            "         P&A       0.96      0.91      0.93       202\n",
            "         A&A       0.98      0.99      0.98       458\n",
            "     Unknown       0.94      0.96      0.95        94\n",
            "\n",
            "    accuracy                           0.96       780\n",
            "   macro avg       0.92      0.94      0.93       780\n",
            "weighted avg       0.96      0.96      0.96       780\n",
            "\n",
            "AUC :  0.9935677823837747\n"
          ]
        }
      ]
    },
    {
      "cell_type": "code",
      "source": [
        "!pip install ipykernel"
      ],
      "metadata": {
        "id": "QeeAhP-kfPPM"
      },
      "execution_count": null,
      "outputs": []
    },
    {
      "cell_type": "code",
      "source": [
        "!pip install --upgrade protobuf==3.20.1"
      ],
      "metadata": {
        "id": "JdyI5hikHa_i"
      },
      "execution_count": null,
      "outputs": []
    },
    {
      "cell_type": "markdown",
      "source": [
        "From Now on start using the GPU mode"
      ],
      "metadata": {
        "id": "GlMzkIQATiGh"
      }
    },
    {
      "cell_type": "code",
      "source": [
        "!pip install tensorflow-gpu==1.13.1"
      ],
      "metadata": {
        "id": "DX77onMkjptL"
      },
      "execution_count": null,
      "outputs": []
    },
    {
      "cell_type": "code",
      "source": [
        "!pip uninstall tensorflow\n"
      ],
      "metadata": {
        "id": "tf9dT_lMmD6-"
      },
      "execution_count": null,
      "outputs": []
    },
    {
      "cell_type": "code",
      "source": [
        "!pip install protobuf==3.20.0\n"
      ],
      "metadata": {
        "id": "9MVPtSGmSZu2"
      },
      "execution_count": null,
      "outputs": []
    },
    {
      "cell_type": "code",
      "source": [
        "!pip install -U tensorflow-gpu==1.13.1\n",
        "!pip install -U --force-reinstall tensorflow-gpu==1.13.1\n",
        "!pip install tensorflow-gpu==1.13.1 --ignore-installed\n",
        "!apt-get install cuda-10-0\n",
        "!apt-get install libcudnn7=7.6.4.38-1+cuda10.0"
      ],
      "metadata": {
        "id": "omnxVM5BmECR"
      },
      "execution_count": null,
      "outputs": []
    },
    {
      "cell_type": "code",
      "source": [
        "!apt-get --purge remove cuda*\n",
        "!apt-get --purge remove libcudnn*\n",
        "\n"
      ],
      "metadata": {
        "id": "sX4JHV8Ryspq"
      },
      "execution_count": null,
      "outputs": []
    },
    {
      "cell_type": "code",
      "source": [
        "!nvcc --version\n"
      ],
      "metadata": {
        "id": "8Fve9HIKzoIW"
      },
      "execution_count": null,
      "outputs": []
    },
    {
      "cell_type": "code",
      "source": [
        "!cd /content/drive/MyDrive/People_2/people_relation_extract/"
      ],
      "metadata": {
        "id": "O-NphSlA3WC1"
      },
      "execution_count": null,
      "outputs": []
    },
    {
      "cell_type": "code",
      "source": [
        "!ls"
      ],
      "metadata": {
        "id": "GuD6XIrq3WFP"
      },
      "execution_count": null,
      "outputs": []
    },
    {
      "cell_type": "code",
      "source": [
        "!sudo dpkg -i cuda-repo-ubuntu1804_10.0.130-1_amd64.deb\n",
        "!sudo apt-key adv --fetch-keys https://developer.download.nvidia.com/compute/cuda/repos/ubuntu1804/x86_64/7fa2af80.pub\n",
        "!sudo apt-get update\n",
        "!sudo apt-get install cuda=10.0.130-1\n"
      ],
      "metadata": {
        "id": "fKKn7hLw3WH8"
      },
      "execution_count": null,
      "outputs": []
    },
    {
      "cell_type": "markdown",
      "source": [
        "Upload the three file download from Nvidia."
      ],
      "metadata": {
        "id": "4qJDqSD1INsP"
      }
    },
    {
      "cell_type": "code",
      "source": [
        "from google.colab import files\n",
        "files.upload()\n"
      ],
      "metadata": {
        "colab": {
          "base_uri": "https://localhost:8080/",
          "height": 142
        },
        "id": "sN1RvlG03WKc",
        "outputId": "0e21ac78-d526-45a5-debd-1af02b1bec73"
      },
      "execution_count": null,
      "outputs": [
        {
          "output_type": "display_data",
          "data": {
            "text/plain": [
              "<IPython.core.display.HTML object>"
            ],
            "text/html": [
              "\n",
              "     <input type=\"file\" id=\"files-0f39e597-088f-4523-a8dc-7bbbd7d3938b\" name=\"files[]\" multiple disabled\n",
              "        style=\"border:none\" />\n",
              "     <output id=\"result-0f39e597-088f-4523-a8dc-7bbbd7d3938b\">\n",
              "      Upload widget is only available when the cell has been executed in the\n",
              "      current browser session. Please rerun this cell to enable.\n",
              "      </output>\n",
              "      <script>// Copyright 2017 Google LLC\n",
              "//\n",
              "// Licensed under the Apache License, Version 2.0 (the \"License\");\n",
              "// you may not use this file except in compliance with the License.\n",
              "// You may obtain a copy of the License at\n",
              "//\n",
              "//      http://www.apache.org/licenses/LICENSE-2.0\n",
              "//\n",
              "// Unless required by applicable law or agreed to in writing, software\n",
              "// distributed under the License is distributed on an \"AS IS\" BASIS,\n",
              "// WITHOUT WARRANTIES OR CONDITIONS OF ANY KIND, either express or implied.\n",
              "// See the License for the specific language governing permissions and\n",
              "// limitations under the License.\n",
              "\n",
              "/**\n",
              " * @fileoverview Helpers for google.colab Python module.\n",
              " */\n",
              "(function(scope) {\n",
              "function span(text, styleAttributes = {}) {\n",
              "  const element = document.createElement('span');\n",
              "  element.textContent = text;\n",
              "  for (const key of Object.keys(styleAttributes)) {\n",
              "    element.style[key] = styleAttributes[key];\n",
              "  }\n",
              "  return element;\n",
              "}\n",
              "\n",
              "// Max number of bytes which will be uploaded at a time.\n",
              "const MAX_PAYLOAD_SIZE = 100 * 1024;\n",
              "\n",
              "function _uploadFiles(inputId, outputId) {\n",
              "  const steps = uploadFilesStep(inputId, outputId);\n",
              "  const outputElement = document.getElementById(outputId);\n",
              "  // Cache steps on the outputElement to make it available for the next call\n",
              "  // to uploadFilesContinue from Python.\n",
              "  outputElement.steps = steps;\n",
              "\n",
              "  return _uploadFilesContinue(outputId);\n",
              "}\n",
              "\n",
              "// This is roughly an async generator (not supported in the browser yet),\n",
              "// where there are multiple asynchronous steps and the Python side is going\n",
              "// to poll for completion of each step.\n",
              "// This uses a Promise to block the python side on completion of each step,\n",
              "// then passes the result of the previous step as the input to the next step.\n",
              "function _uploadFilesContinue(outputId) {\n",
              "  const outputElement = document.getElementById(outputId);\n",
              "  const steps = outputElement.steps;\n",
              "\n",
              "  const next = steps.next(outputElement.lastPromiseValue);\n",
              "  return Promise.resolve(next.value.promise).then((value) => {\n",
              "    // Cache the last promise value to make it available to the next\n",
              "    // step of the generator.\n",
              "    outputElement.lastPromiseValue = value;\n",
              "    return next.value.response;\n",
              "  });\n",
              "}\n",
              "\n",
              "/**\n",
              " * Generator function which is called between each async step of the upload\n",
              " * process.\n",
              " * @param {string} inputId Element ID of the input file picker element.\n",
              " * @param {string} outputId Element ID of the output display.\n",
              " * @return {!Iterable<!Object>} Iterable of next steps.\n",
              " */\n",
              "function* uploadFilesStep(inputId, outputId) {\n",
              "  const inputElement = document.getElementById(inputId);\n",
              "  inputElement.disabled = false;\n",
              "\n",
              "  const outputElement = document.getElementById(outputId);\n",
              "  outputElement.innerHTML = '';\n",
              "\n",
              "  const pickedPromise = new Promise((resolve) => {\n",
              "    inputElement.addEventListener('change', (e) => {\n",
              "      resolve(e.target.files);\n",
              "    });\n",
              "  });\n",
              "\n",
              "  const cancel = document.createElement('button');\n",
              "  inputElement.parentElement.appendChild(cancel);\n",
              "  cancel.textContent = 'Cancel upload';\n",
              "  const cancelPromise = new Promise((resolve) => {\n",
              "    cancel.onclick = () => {\n",
              "      resolve(null);\n",
              "    };\n",
              "  });\n",
              "\n",
              "  // Wait for the user to pick the files.\n",
              "  const files = yield {\n",
              "    promise: Promise.race([pickedPromise, cancelPromise]),\n",
              "    response: {\n",
              "      action: 'starting',\n",
              "    }\n",
              "  };\n",
              "\n",
              "  cancel.remove();\n",
              "\n",
              "  // Disable the input element since further picks are not allowed.\n",
              "  inputElement.disabled = true;\n",
              "\n",
              "  if (!files) {\n",
              "    return {\n",
              "      response: {\n",
              "        action: 'complete',\n",
              "      }\n",
              "    };\n",
              "  }\n",
              "\n",
              "  for (const file of files) {\n",
              "    const li = document.createElement('li');\n",
              "    li.append(span(file.name, {fontWeight: 'bold'}));\n",
              "    li.append(span(\n",
              "        `(${file.type || 'n/a'}) - ${file.size} bytes, ` +\n",
              "        `last modified: ${\n",
              "            file.lastModifiedDate ? file.lastModifiedDate.toLocaleDateString() :\n",
              "                                    'n/a'} - `));\n",
              "    const percent = span('0% done');\n",
              "    li.appendChild(percent);\n",
              "\n",
              "    outputElement.appendChild(li);\n",
              "\n",
              "    const fileDataPromise = new Promise((resolve) => {\n",
              "      const reader = new FileReader();\n",
              "      reader.onload = (e) => {\n",
              "        resolve(e.target.result);\n",
              "      };\n",
              "      reader.readAsArrayBuffer(file);\n",
              "    });\n",
              "    // Wait for the data to be ready.\n",
              "    let fileData = yield {\n",
              "      promise: fileDataPromise,\n",
              "      response: {\n",
              "        action: 'continue',\n",
              "      }\n",
              "    };\n",
              "\n",
              "    // Use a chunked sending to avoid message size limits. See b/62115660.\n",
              "    let position = 0;\n",
              "    do {\n",
              "      const length = Math.min(fileData.byteLength - position, MAX_PAYLOAD_SIZE);\n",
              "      const chunk = new Uint8Array(fileData, position, length);\n",
              "      position += length;\n",
              "\n",
              "      const base64 = btoa(String.fromCharCode.apply(null, chunk));\n",
              "      yield {\n",
              "        response: {\n",
              "          action: 'append',\n",
              "          file: file.name,\n",
              "          data: base64,\n",
              "        },\n",
              "      };\n",
              "\n",
              "      let percentDone = fileData.byteLength === 0 ?\n",
              "          100 :\n",
              "          Math.round((position / fileData.byteLength) * 100);\n",
              "      percent.textContent = `${percentDone}% done`;\n",
              "\n",
              "    } while (position < fileData.byteLength);\n",
              "  }\n",
              "\n",
              "  // All done.\n",
              "  yield {\n",
              "    response: {\n",
              "      action: 'complete',\n",
              "    }\n",
              "  };\n",
              "}\n",
              "\n",
              "scope.google = scope.google || {};\n",
              "scope.google.colab = scope.google.colab || {};\n",
              "scope.google.colab._files = {\n",
              "  _uploadFiles,\n",
              "  _uploadFilesContinue,\n",
              "};\n",
              "})(self);\n",
              "</script> "
            ]
          },
          "metadata": {}
        },
        {
          "output_type": "stream",
          "name": "stdout",
          "text": [
            "Saving libcudnn7_7.6.5.32-1+cuda10.0_amd64.deb to libcudnn7_7.6.5.32-1+cuda10.0_amd64.deb\n",
            "Saving libcudnn7-dev_7.6.5.32-1+cuda10.0_amd64.deb to libcudnn7-dev_7.6.5.32-1+cuda10.0_amd64.deb\n",
            "Saving libcudnn7-doc_7.6.5.32-1+cuda10.0_amd64.deb to libcudnn7-doc_7.6.5.32-1+cuda10.0_amd64.deb\n"
          ]
        }
      ]
    },
    {
      "cell_type": "code",
      "source": [
        "!dpkg -i libcudnn7_7.6.5.32-1+cuda10.0_amd64.deb\n",
        "!dpkg -i libcudnn7-dev_7.6.5.32-1+cuda10.0_amd64.deb\n"
      ],
      "metadata": {
        "id": "8QpR8ieG3WMx"
      },
      "execution_count": null,
      "outputs": []
    },
    {
      "cell_type": "code",
      "source": [
        "!ls /usr/local/cuda/lib64/libcudnn*\n"
      ],
      "metadata": {
        "id": "QmwPYqN-REF8"
      },
      "execution_count": null,
      "outputs": []
    }
  ]
}